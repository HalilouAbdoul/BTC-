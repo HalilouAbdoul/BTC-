{
 "cells": [
  {
   "cell_type": "code",
   "execution_count": 10,
   "id": "fd0b3d4d",
   "metadata": {},
   "outputs": [
    {
     "name": "stdout",
     "output_type": "stream",
     "text": [
      "Requirement already satisfied: bitcoin in c:\\users\\abdoul\\anaconda3\\lib\\site-packages (1.1.42)\n",
      "Note: you may need to restart the kernel to use updated packages.\n"
     ]
    }
   ],
   "source": [
    "pip install bitcoin "
   ]
  },
  {
   "cell_type": "code",
   "execution_count": 14,
   "id": "1e13922d",
   "metadata": {},
   "outputs": [],
   "source": [
    "import bitcoin #we import the bitcoin library that we will use for generating the private keys for the 3 partners"
   ]
  },
  {
   "cell_type": "code",
   "execution_count": 16,
   "id": "a7e139e4",
   "metadata": {},
   "outputs": [],
   "source": [
    "#we start with generating private keys\n",
    "private_key_1 = random_key() # Private key for me the CEO\n",
    "private_key_2 = random_key() # Private key for Alice\n",
    "private_key_3 = random_key() # Private key for Bob"
   ]
  },
  {
   "cell_type": "code",
   "execution_count": 17,
   "id": "69e191fc",
   "metadata": {},
   "outputs": [
    {
     "name": "stdout",
     "output_type": "stream",
     "text": [
      "Private Key for me the CEO is: 603f619c22f30e8723acb35741c9006e785a7e26f22ee9c173273046eda7afd8\n",
      "\n",
      "Private Key for Alice is: ae359c9336fccb0d30a21f4b43afa7dd54a22ce1ce52b6538f27b3eeecaf374b\n",
      "\n",
      "Private Key for Bob is: c29b141a73e9d626ac87ff936f5de49e6382e4ac84f25368dc1a8abf65590fe4\n",
      "\n"
     ]
    }
   ],
   "source": [
    "#we print the private key of each partner\n",
    "print(\"Private Key for me the CEO is: %s\\n\" %private_key_1 )\n",
    "print(\"Private Key for Alice is: %s\\n\" %private_key_2 )\n",
    "print(\"Private Key for Bob is: %s\\n\" %private_key_3 )"
   ]
  },
  {
   "cell_type": "code",
   "execution_count": 18,
   "id": "df31671f",
   "metadata": {},
   "outputs": [],
   "source": [
    "# Derive the public keys from the private keys\n",
    "public_key_1 = privtopub(private_key_1) # we convert the private key to public key using privtopub\n",
    "public_key_2 = privtopub(private_key_2)\n",
    "public_key_3 = privtopub(private_key_3)"
   ]
  },
  {
   "cell_type": "code",
   "execution_count": 19,
   "id": "a498890f",
   "metadata": {},
   "outputs": [
    {
     "name": "stdout",
     "output_type": "stream",
     "text": [
      "Public Key for me the CEO is: 047150d83af075c75cc89bee8f66ab3efe4a1b30f0f2282a2dd9d12075e9535e3bc18e994f8189af0958f925247d541356b39d4e2836f2b85d53110aea8a5b0a9a\n",
      "\n",
      "Public Key for Alice is: 04dd4c3b158479410516a22573c2fdeafe3825a9defbe086cdc75225ecbec935b89a7f29e0a2e7b8fc158572ddc0babb1df906e9057e2fe51433876d620157e4b7\n",
      "\n",
      "Public Key for Bob is: 0428689950979d9f69d7cbbf61a94f9845001c64f81901642d1daabcaa1b3beadad26ced90de8133309fc9e815d5fdb6d549d68439306e1759c96121746ffdd39e\n",
      "\n"
     ]
    }
   ],
   "source": [
    "#We print the derived public keys for each partner\n",
    "print(\"Public Key for me the CEO is: %s\\n\" %public_key_1 )\n",
    "print(\"Public Key for Alice is: %s\\n\" %public_key_2 )\n",
    "print(\"Public Key for Bob is: %s\\n\" %public_key_3 )"
   ]
  },
  {
   "cell_type": "code",
   "execution_count": 20,
   "id": "a7db072b",
   "metadata": {},
   "outputs": [],
   "source": [
    "#Generate the individual addresses for each partner\n",
    "address_1 = pubtoaddr(public_key_1)\n",
    "address_2 = pubtoaddr(public_key_2)\n",
    "address_3 = pubtoaddr(public_key_3)"
   ]
  },
  {
   "cell_type": "code",
   "execution_count": 22,
   "id": "1af5eb3e",
   "metadata": {},
   "outputs": [
    {
     "name": "stdout",
     "output_type": "stream",
     "text": [
      "Bitcoin address for me the CEO is: 1875mXfL5yzvc54zmKWeaLCTxhJztJx1hS\n",
      "\n",
      "Bitcoin address for Alice is: 1MU1JcoJ4F9WUjtUk7UKU8aqjfgkBDM3rp\n",
      "\n",
      "Bitcoin address for Bob is: 1Ai9Lkkr6LUsy7DqftEVVaTMavayzhvwye\n",
      "\n"
     ]
    }
   ],
   "source": [
    "#Each partner will have this Bitcoin Address\n",
    "print(\"Bitcoin address for me the CEO is: %s\\n\" %address_1 )\n",
    "print(\"Bitcoin address for Alice is: %s\\n\" %address_2 )\n",
    "print(\"Bitcoin address for Bob is: %s\\n\" %address_3 )"
   ]
  },
  {
   "cell_type": "code",
   "execution_count": 28,
   "id": "d68676bc",
   "metadata": {},
   "outputs": [
    {
     "name": "stdout",
     "output_type": "stream",
     "text": [
      "The Company Multisignature Address: 3LSdVeHXrDYfJoABt7r2xK1y5xVbsR5RBB\n",
      "\n"
     ]
    }
   ],
   "source": [
    "# Create a 2-of-3 multi-sig address using the private keys\n",
    "company_multi_sig = mk_multisig_script(public_key_1, public_key_2, public_key_3, 2, 3) # we generate a new key combined key\n",
    "company_multi_address = scriptaddr(company_multi_sig) #we generate an address for that combined key\n",
    "print(\"The Company Multisignature Address: %s\\n\" % company_multi_address)"
   ]
  },
  {
   "cell_type": "code",
   "execution_count": null,
   "id": "d9b7df08",
   "metadata": {},
   "outputs": [],
   "source": []
  }
 ],
 "metadata": {
  "kernelspec": {
   "display_name": "Python 3 (ipykernel)",
   "language": "python",
   "name": "python3"
  },
  "language_info": {
   "codemirror_mode": {
    "name": "ipython",
    "version": 3
   },
   "file_extension": ".py",
   "mimetype": "text/x-python",
   "name": "python",
   "nbconvert_exporter": "python",
   "pygments_lexer": "ipython3",
   "version": "3.9.7"
  }
 },
 "nbformat": 4,
 "nbformat_minor": 5
}
