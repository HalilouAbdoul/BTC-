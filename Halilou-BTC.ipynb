{
 "cells": [
  {
   "cell_type": "code",
   "execution_count": 1,
   "id": "6b7ce2a1",
   "metadata": {},
   "outputs": [],
   "source": [
    "import numpy as np\n",
    "import random\n",
    "import json\n",
    "import time\n",
    "import matplotlib as mpl\n",
    "import matplotlib.pyplot as plt\n",
    "from matplotlib import cm"
   ]
  },
  {
   "cell_type": "code",
   "execution_count": 9,
   "id": "2c39e5a1",
   "metadata": {},
   "outputs": [],
   "source": [
    "m = 12"
   ]
  },
  {
   "cell_type": "code",
   "execution_count": 15,
   "id": "37b74c1a",
   "metadata": {},
   "outputs": [],
   "source": [
    "locations=['Under the stars of Oxford Street','Carnaby Street Celebrates','Carnaby Street Stars','Carnaby Street Shine and Dream','Regent Street Snowy Angels','Regent Street+St James Square','Harry Potter in Snowy Quidditch in Leicest Square','National Gallery','Trafalgar Square Lion in Snow','London Eye','Regent Park Tree in Snow','Regent Park Tree Frozen Lake']\n",
    "snow_level=['Mild','Gentle','Mixing with the stars','Moderate','Heavy','Heavy','Heavy','Windy Snow','Wet and Icy','Wet and Icy','Snowy White','Cold and Frozen']\n",
    "time_stamp=['8pm','9pm','9.30pm','9.45pm','10pm','11pm','11pm','09am','9am','10am','11am','12pm']"
   ]
  },
  {
   "cell_type": "code",
   "execution_count": 16,
   "id": "f4b663a8",
   "metadata": {},
   "outputs": [],
   "source": [
    "for i in range(m):\n",
    "   \n",
    "    a[i]={'name':'#%d'%(i+1),\n",
    "          'description':'This is London in Snow taken by Halilou on Dec 11 2022.',\n",
    "            #'image':'ipfs://ABCD/%d.png'%(i+1),\n",
    "          'edition': i+1,\n",
    "          'date':time.time(),\n",
    "          'attributes':[{'trait_type':'Location Description','value':locations[i]},\n",
    "                 {'trait_type':'Snow Description','value':snow_level[i]},\n",
    "                 {'trait_type':'Time','value':time_stamp[i]}\n",
    "                 ],\n",
    "         'compiler':'Halilou'}"
   ]
  },
  {
   "cell_type": "code",
   "execution_count": 17,
   "id": "0839e4ce",
   "metadata": {},
   "outputs": [],
   "source": [
    "for k in range(m):\n",
    "    a[k]['image'] = 'ipfs://QmZpKEzteMwL6iRGJJvC1KXgWr2ym9Kvch6RF5u1wRSpps/%d.jpg'%(k+1)\n",
    "    with open('HalilouLondonSnowMetadata/%d.json'%(k+1), 'w') as fp:\n",
    "        json.dump(a[k], fp)"
   ]
  },
  {
   "cell_type": "code",
   "execution_count": null,
   "id": "da3a2b2c",
   "metadata": {},
   "outputs": [],
   "source": []
  }
 ],
 "metadata": {
  "kernelspec": {
   "display_name": "Python 3 (ipykernel)",
   "language": "python",
   "name": "python3"
  },
  "language_info": {
   "codemirror_mode": {
    "name": "ipython",
    "version": 3
   },
   "file_extension": ".py",
   "mimetype": "text/x-python",
   "name": "python",
   "nbconvert_exporter": "python",
   "pygments_lexer": "ipython3",
   "version": "3.9.7"
  }
 },
 "nbformat": 4,
 "nbformat_minor": 5
}
